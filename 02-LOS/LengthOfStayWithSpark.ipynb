{
 "cells": [
  {
   "cell_type": "code",
   "execution_count": 3,
   "id": "c3f3feba-73de-432b-855f-133421ea992d",
   "metadata": {
    "metadata": {}
   },
   "outputs": [],
   "source": [
    "from pyspark.sql import SparkSession\n",
    "\n",
    "import numpy as np\n",
    "import matplotlib.pyplot as plt\n",
    "import seaborn as sns\n",
    "\n",
    "from sklearn.model_selection import train_test_split\n",
    "from sklearn.preprocessing import OrdinalEncoder, LabelEncoder\n",
    "from sklearn.metrics import mean_squared_error, classification_report\n",
    "from sklearn.tree import DecisionTreeClassifier, DecisionTreeRegressor"
   ]
  },
  {
   "cell_type": "code",
   "execution_count": 4,
   "id": "5960d70d-5bc7-45e3-834e-95fb1c2e9b32",
   "metadata": {},
   "outputs": [],
   "source": [
    "spark = SparkSession.builder \\\n",
    "    .appName(\"Patient Length of Stay Prediction\") \\\n",
    "    .getOrCreate()"
   ]
  },
  {
   "cell_type": "code",
   "execution_count": 5,
   "id": "95de8ca4-2669-4137-8549-623ed09843be",
   "metadata": {},
   "outputs": [
    {
     "name": "stdout",
     "output_type": "stream",
     "text": [
      "+---------------------+---------------+----------------------------+---------------------+--------------------+-----------+-------------------+------+--------------------+-----------------+--------------+-----------------+--------------------+--------------+-------------------+--------------------------+-------------------+--------------------------+------------+--------------------+------------+--------------------+----------------------------+-----------------------------------+---------------------+--------------------------------+--------------------+------------------+------------------+------------+------------------------------+-------------+-----------+\n",
      "|Hospital Service Area|Hospital County|Operating Certificate Number|Permanent Facility Id|       Facility Name|  Age Group|Zip Code - 3 digits|Gender|                Race|        Ethnicity|Length of Stay|Type of Admission| Patient Disposition|Discharge Year|CCSR Diagnosis Code|CCSR Diagnosis Description|CCSR Procedure Code|CCSR Procedure Description|APR DRG Code| APR DRG Description|APR MDC Code| APR MDC Description|APR Severity of Illness Code|APR Severity of Illness Description|APR Risk of Mortality|APR Medical Surgical Description|  Payment Typology 1|Payment Typology 2|Payment Typology 3|Birth Weight|Emergency Department Indicator|Total Charges|Total Costs|\n",
      "+---------------------+---------------+----------------------------+---------------------+--------------------+-----------+-------------------+------+--------------------+-----------------+--------------+-----------------+--------------------+--------------+-------------------+--------------------------+-------------------+--------------------------+------------+--------------------+------------+--------------------+----------------------------+-----------------------------------+---------------------+--------------------------------+--------------------+------------------+------------------+------------+------------------------------+-------------+-----------+\n",
      "|        New York City|          Bronx|                     7000006|                 1169|Montefiore Medica...|70 or Older|                104|     M|          Other Race| Spanish/Hispanic|            27|        Emergency|Home w/ Home Heal...|          2021|             INF012|      CORONAVIRUS DISEA...|             OTR004|      ISOLATION PROCEDURES|         137|MAJOR RESPIRATORY...|           4|DISEASES AND DISO...|                           3|                              Major|              Extreme|                         Medical|            Medicare|          Medicaid|              null|        null|                             Y|   320,922.43|  60,241.34|\n",
      "|        New York City|          Bronx|                     7000006|                 1169|Montefiore Medica...|   50 to 69|                104|     F|               White|Not Span/Hispanic|             4|        Emergency|   Home or Self Care|          2021|             NVS005|        MULTIPLE SCLEROSIS|               null|                      null|          43|MULTIPLE SCLEROSI...|           1|DISEASES AND DISO...|                           2|                           Moderate|                Minor|                         Medical|Private Health In...|              null|              null|        null|                             Y|    61,665.22|   9,180.69|\n",
      "|        New York City|          Bronx|                     7000006|                 1168|Montefiore Medica...|   18 to 29|                104|     F|          Other Race| Spanish/Hispanic|             2|        Emergency|   Home or Self Care|          2021|             PRG016|        PREVIOUS C-SECTION|             PGN003|          CESAREAN SECTION|         540|CESAREAN SECTION ...|          14|PREGNANCY, CHILDB...|                           1|                              Minor|                Minor|                        Surgical|            Medicaid|              null|              null|        null|                             N|    42,705.34|   11,366.5|\n",
      "|        New York City|          Bronx|                     7000006|                 3058|Montefiore Med Ce...|70 or Older|                104|     M|          Other Race| Spanish/Hispanic|             5|        Emergency|   Home or Self Care|          2021|             GEN004|      URINARY TRACT INF...|             ADM017|      ADMINISTRATION OF...|         463|KIDNEY AND URINAR...|          11|DISEASES AND DISO...|                           3|                              Major|                Major|                         Medical|            Medicare|          Medicaid|              null|        null|                             Y|    72,700.17|  12,111.75|\n",
      "|        New York City|          Bronx|                     7000006|                 1169|Montefiore Medica...|   50 to 69|                104|     F|Black/African Ame...|Not Span/Hispanic|             3|        Emergency|   Home or Self Care|          2021|             NVS008|      PARALYSIS (OTHER ...|             CNS002|           LUMBAR PUNCTURE|          58|OTHER DISORDERS O...|           1|DISEASES AND DISO...|                           2|                           Moderate|                Minor|                         Medical|            Medicare|          Medicaid|              null|        null|                             Y|    55,562.51|   8,339.72|\n",
      "+---------------------+---------------+----------------------------+---------------------+--------------------+-----------+-------------------+------+--------------------+-----------------+--------------+-----------------+--------------------+--------------+-------------------+--------------------------+-------------------+--------------------------+------------+--------------------+------------+--------------------+----------------------------+-----------------------------------+---------------------+--------------------------------+--------------------+------------------+------------------+------------+------------------------------+-------------+-----------+\n",
      "only showing top 5 rows\n",
      "\n"
     ]
    }
   ],
   "source": [
    "df = spark.read.csv(\"data\\Hospital_Inpatient_Discharges.csv\", header=True, inferSchema=True)\n",
    "df.show(5)"
   ]
  },
  {
   "cell_type": "code",
   "execution_count": 6,
   "id": "63021747-c023-4fed-8f50-ca875c0eb784",
   "metadata": {},
   "outputs": [
    {
     "data": {
      "text/plain": [
       "<bound method SparkSession.stop of <pyspark.sql.session.SparkSession object at 0x0000022B77095FC0>>"
      ]
     },
     "execution_count": 6,
     "metadata": {},
     "output_type": "execute_result"
    }
   ],
   "source": [
    "spark.stop"
   ]
  },
  {
   "cell_type": "code",
   "execution_count": null,
   "id": "693ff66f",
   "metadata": {},
   "outputs": [],
   "source": []
  }
 ],
 "metadata": {
  "kernelspec": {
   "display_name": "Python 3 (ipykernel)",
   "language": "python",
   "name": "python3"
  },
  "language_info": {
   "codemirror_mode": {
    "name": "ipython",
    "version": 3
   },
   "file_extension": ".py",
   "mimetype": "text/x-python",
   "name": "python",
   "nbconvert_exporter": "python",
   "pygments_lexer": "ipython3",
   "version": "3.10.7"
  }
 },
 "nbformat": 4,
 "nbformat_minor": 5
}
